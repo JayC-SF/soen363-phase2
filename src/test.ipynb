{
 "cells": [
  {
   "cell_type": "code",
   "execution_count": 2,
   "metadata": {},
   "outputs": [],
   "source": [
    "import pandas as pd\n",
    "import mysql.connector\n"
   ]
  },
  {
   "cell_type": "code",
   "execution_count": 3,
   "metadata": {},
   "outputs": [],
   "source": [
    "\n",
    "def convert_table_to_df(cursor, database_name, table_name): \n",
    "    query = f\"SELECT column_name FROM information_schema.columns WHERE table_schema = '{database_name}' AND table_name = '{table_name}'\"\n",
    "    cursor.execute(query)\n",
    "    rows = cursor.fetchall()\n",
    "    # get the columns\n",
    "    columns =  [row[0] for row in rows]\n",
    "    data_query = f\"SELECT { ','.join([f'`{col}`' for col in columns]) } from `{table_name}`\"\n",
    "    cursor.execute(data_query)\n",
    "    # get records\n",
    "    data_records = cursor.fetchall()\n",
    "    # print(data_records)\n",
    "    dict_df = {col:[] for col in columns}\n",
    "    for record in data_records:\n",
    "        for idx, column in enumerate(columns):\n",
    "            dict_df[column].append(record[idx])\n",
    "    return pd.DataFrame(dict_df)\n",
    "\n",
    "        "
   ]
  },
  {
   "cell_type": "code",
   "execution_count": 5,
   "metadata": {},
   "outputs": [],
   "source": [
    "\n",
    "def convert_all_tables():\n",
    "    conn = mysql.connector.connect(\n",
    "        host=\"127.0.0.1\",\n",
    "        user=\"jcsf\",\n",
    "        password=\"hello\",\n",
    "        database=\"a2\"\n",
    "    )\n",
    "    cursor = conn.cursor()\n",
    "    cursor.execute('SHOW TABLES')\n",
    "    tables = cursor.fetchall()\n",
    "    tables = [table[0] for table in tables]\n",
    "    for table in tables:\n",
    "        df = convert_table_to_df(cursor, conn.database, table)\n",
    "        df.to_csv(f\"./csvs/{table}.csv\")\n",
    "    "
   ]
  },
  {
   "cell_type": "code",
   "execution_count": null,
   "metadata": {},
   "outputs": [],
   "source": [
    "convert_all_tables()\n"
   ]
  },
  {
   "cell_type": "code",
   "execution_count": 12,
   "metadata": {},
   "outputs": [],
   "source": [
    "conn = mysql.connector.connect(\n",
    "        host=\"127.0.0.1\",\n",
    "        user=\"jcsf\",\n",
    "        password=\"hello\",\n",
    "        database=\"a2\"\n",
    "    )\n",
    "cursor = conn.cursor()\n",
    "df = convert_table_to_df(cursor, conn.database, \"Person\")"
   ]
  },
  {
   "cell_type": "code",
   "execution_count": 13,
   "metadata": {},
   "outputs": [],
   "source": [
    "first_names = []\n",
    "last_names = []\n",
    "for idx, row in df.iterrows():\n",
    "    name:str = row['name']\n",
    "    split_name = name.rsplit(\" \", maxsplit=1)\n",
    "    first_name = split_name[0]\n",
    "    if len(split_name) == 2:\n",
    "        last_name = split_name[1]\n",
    "    else:\n",
    "        last_name = None\n",
    "    first_names.append(first_name)\n",
    "    last_names.append(last_name)\n",
    "\n",
    "df.insert(len(df.columns), \"first_name\", first_names)\n",
    "df.insert(len(df.columns), \"last_name\", last_names)\n",
    "df = df.drop('name', axis=1)\n",
    "df.to_csv(\"./Person.csv\", index=False)\n",
    "\n",
    "    "
   ]
  }
 ],
 "metadata": {
  "kernelspec": {
   "display_name": "SOEN363",
   "language": "python",
   "name": "python3"
  },
  "language_info": {
   "codemirror_mode": {
    "name": "ipython",
    "version": 3
   },
   "file_extension": ".py",
   "mimetype": "text/x-python",
   "name": "python",
   "nbconvert_exporter": "python",
   "pygments_lexer": "ipython3",
   "version": "3.10.8"
  }
 },
 "nbformat": 4,
 "nbformat_minor": 2
}
